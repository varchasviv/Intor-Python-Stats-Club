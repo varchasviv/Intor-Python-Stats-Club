{
 "cells": [
  {
   "cell_type": "markdown",
   "metadata": {},
   "source": [
    "# Introductory Python for Data Science\n",
    "## Statistics Club at UCLA\n",
    "\n",
    "Welcome to the demo section of our workshop!\n",
    "\n",
    "Jupyter Notebooks can contain both text and code, making it very simple to tell stories.\n",
    "\n",
    "Let's start with our first line of code."
   ]
  },
  {
   "cell_type": "markdown",
   "metadata": {},
   "source": [
    "Hello!"
   ]
  },
  {
   "cell_type": "markdown",
   "metadata": {},
   "source": [
    "Customarily, the first line of code taught to learners is how to print the statement \"Hello, World\" using code. Let's try that!"
   ]
  },
  {
   "cell_type": "code",
   "execution_count": 1,
   "metadata": {},
   "outputs": [
    {
     "name": "stdout",
     "output_type": "stream",
     "text": [
      "Hello, World!\n"
     ]
    }
   ],
   "source": [
    "# printing hello world\n",
    "# this is a comment\n",
    "\n",
    "print(\"Hello, World!\")"
   ]
  },
  {
   "cell_type": "markdown",
   "metadata": {},
   "source": [
    "## Data Types in Python\n",
    "\n",
    "Data in Python can be of different types, like integers, floats (decimal values), strings (text), and Booleans (True or False)\n",
    "\n",
    "Let's create examples of each:"
   ]
  },
  {
   "cell_type": "code",
   "execution_count": 2,
   "metadata": {},
   "outputs": [],
   "source": [
    "# Creating data of types int, float, str, and boolean\n",
    "\n",
    "my_int = 1\n",
    "my_float = 1.1\n",
    "my_str = \"Hello!\"\n",
    "my_bool = False\n"
   ]
  },
  {
   "cell_type": "code",
   "execution_count": 8,
   "metadata": {},
   "outputs": [
    {
     "data": {
      "text/plain": [
       "float"
      ]
     },
     "execution_count": 8,
     "metadata": {},
     "output_type": "execute_result"
    }
   ],
   "source": [
    "# Checking their types\n",
    "\n",
    "type(my_int)\n",
    "type(my_float)\n",
    "type(my_str)\n",
    "type(my_bool)\n",
    "type(1.32)"
   ]
  },
  {
   "cell_type": "markdown",
   "metadata": {},
   "source": [
    "You can sometimes convert between data types in Python. Let's try this"
   ]
  },
  {
   "cell_type": "code",
   "execution_count": 9,
   "metadata": {},
   "outputs": [
    {
     "data": {
      "text/plain": [
       "1.0"
      ]
     },
     "execution_count": 9,
     "metadata": {},
     "output_type": "execute_result"
    }
   ],
   "source": [
    "# Converting int to float\n",
    "\n",
    "float(my_int)"
   ]
  },
  {
   "cell_type": "code",
   "execution_count": 10,
   "metadata": {},
   "outputs": [
    {
     "ename": "ValueError",
     "evalue": "invalid literal for int() with base 10: 'Hello!'",
     "output_type": "error",
     "traceback": [
      "\u001b[1;31m---------------------------------------------------------------------------\u001b[0m",
      "\u001b[1;31mValueError\u001b[0m                                Traceback (most recent call last)",
      "\u001b[1;32m<ipython-input-10-614043f3a554>\u001b[0m in \u001b[0;36m<module>\u001b[1;34m\u001b[0m\n\u001b[0;32m      1\u001b[0m \u001b[1;31m# Converting str to int\u001b[0m\u001b[1;33m\u001b[0m\u001b[1;33m\u001b[0m\u001b[1;33m\u001b[0m\u001b[0m\n\u001b[0;32m      2\u001b[0m \u001b[1;33m\u001b[0m\u001b[0m\n\u001b[1;32m----> 3\u001b[1;33m \u001b[0mint\u001b[0m\u001b[1;33m(\u001b[0m\u001b[0mmy_str\u001b[0m\u001b[1;33m)\u001b[0m\u001b[1;33m\u001b[0m\u001b[1;33m\u001b[0m\u001b[0m\n\u001b[0m",
      "\u001b[1;31mValueError\u001b[0m: invalid literal for int() with base 10: 'Hello!'"
     ]
    }
   ],
   "source": [
    "# Converting str to int\n",
    "\n",
    "int(my_str)"
   ]
  },
  {
   "cell_type": "code",
   "execution_count": 13,
   "metadata": {},
   "outputs": [
    {
     "data": {
      "text/plain": [
       "int"
      ]
     },
     "execution_count": 13,
     "metadata": {},
     "output_type": "execute_result"
    }
   ],
   "source": [
    "# Converting a str with a number in it to float\n",
    "\n",
    "type(int(\"9\"))"
   ]
  },
  {
   "cell_type": "markdown",
   "metadata": {},
   "source": [
    "## Expressions and Variables\n",
    "\n",
    "Expressions describe an operation that the code performs. Any type of calculation is an example of expressions."
   ]
  },
  {
   "cell_type": "code",
   "execution_count": 14,
   "metadata": {},
   "outputs": [
    {
     "data": {
      "text/plain": [
       "12"
      ]
     },
     "execution_count": 14,
     "metadata": {},
     "output_type": "execute_result"
    }
   ],
   "source": [
    "# Addition\n",
    "\n",
    "5+7"
   ]
  },
  {
   "cell_type": "code",
   "execution_count": 15,
   "metadata": {},
   "outputs": [
    {
     "data": {
      "text/plain": [
       "6"
      ]
     },
     "execution_count": 15,
     "metadata": {},
     "output_type": "execute_result"
    }
   ],
   "source": [
    "# Subtraction\n",
    "\n",
    "9-3"
   ]
  },
  {
   "cell_type": "code",
   "execution_count": 16,
   "metadata": {},
   "outputs": [
    {
     "data": {
      "text/plain": [
       "18"
      ]
     },
     "execution_count": 16,
     "metadata": {},
     "output_type": "execute_result"
    }
   ],
   "source": [
    "# Multiplication\n",
    "\n",
    "2*9"
   ]
  },
  {
   "cell_type": "code",
   "execution_count": 17,
   "metadata": {},
   "outputs": [
    {
     "data": {
      "text/plain": [
       "9.0"
      ]
     },
     "execution_count": 17,
     "metadata": {},
     "output_type": "execute_result"
    }
   ],
   "source": [
    "# Division\n",
    "\n",
    "18/2"
   ]
  },
  {
   "cell_type": "code",
   "execution_count": 18,
   "metadata": {},
   "outputs": [
    {
     "data": {
      "text/plain": [
       "7.0"
      ]
     },
     "execution_count": 18,
     "metadata": {},
     "output_type": "execute_result"
    }
   ],
   "source": [
    "# Combinations\n",
    "\n",
    "5 + (9-5)/2"
   ]
  },
  {
   "cell_type": "markdown",
   "metadata": {},
   "source": [
    "We can use variables to store values"
   ]
  },
  {
   "cell_type": "code",
   "execution_count": 20,
   "metadata": {},
   "outputs": [
    {
     "name": "stdout",
     "output_type": "stream",
     "text": [
      "7.0\n"
     ]
    }
   ],
   "source": [
    "# Storing the value of our last expression\n",
    "\n",
    "my_calculation = 5 + (9-5)/2\n",
    "print(my_calculation)"
   ]
  },
  {
   "cell_type": "code",
   "execution_count": 22,
   "metadata": {},
   "outputs": [
    {
     "name": "stdout",
     "output_type": "stream",
     "text": [
      "17.0\n"
     ]
    }
   ],
   "source": [
    "# You can change what is stored in a variable\n",
    "\n",
    "my_calculation = 15 + (9-5)/2\n",
    "print(my_calculation)"
   ]
  },
  {
   "cell_type": "markdown",
   "metadata": {},
   "source": [
    "Strings"
   ]
  },
  {
   "cell_type": "code",
   "execution_count": 29,
   "metadata": {},
   "outputs": [
    {
     "name": "stdout",
     "output_type": "stream",
     "text": [
      "Stats Club\n"
     ]
    }
   ],
   "source": [
    "# Storing a string\n",
    "\n",
    "my_string2 = \"Stats Club\"\n",
    "print(my_string2)"
   ]
  },
  {
   "cell_type": "code",
   "execution_count": 30,
   "metadata": {},
   "outputs": [
    {
     "name": "stdout",
     "output_type": "stream",
     "text": [
      "Stats Club is the best!\n"
     ]
    }
   ],
   "source": [
    "# Mutating a string\n",
    "\n",
    "my_string2 = my_string2 + \" is the best!\"\n",
    "print(my_string2)"
   ]
  },
  {
   "cell_type": "code",
   "execution_count": 34,
   "metadata": {},
   "outputs": [
    {
     "name": "stdout",
     "output_type": "stream",
     "text": [
      "Stats Club\n"
     ]
    }
   ],
   "source": [
    "# String Subsetting\n",
    "\n",
    "print(my_string2[0:10])"
   ]
  },
  {
   "cell_type": "markdown",
   "metadata": {},
   "source": [
    "String Methods"
   ]
  },
  {
   "cell_type": "code",
   "execution_count": 38,
   "metadata": {},
   "outputs": [
    {
     "data": {
      "text/plain": [
       "'STATS CLUB IS THE BEST!'"
      ]
     },
     "execution_count": 38,
     "metadata": {},
     "output_type": "execute_result"
    }
   ],
   "source": [
    "# upper()\n",
    "\n",
    "my_string2.upper()"
   ]
  },
  {
   "cell_type": "code",
   "execution_count": 39,
   "metadata": {},
   "outputs": [
    {
     "data": {
      "text/plain": [
       "'Stats Club is the greatest!'"
      ]
     },
     "execution_count": 39,
     "metadata": {},
     "output_type": "execute_result"
    }
   ],
   "source": [
    "# replace()\n",
    "\n",
    "my_string2.replace(\"best\", \"greatest\")"
   ]
  },
  {
   "cell_type": "code",
   "execution_count": 40,
   "metadata": {},
   "outputs": [
    {
     "data": {
      "text/plain": [
       "'sTATS cLUB IS THE BEST!'"
      ]
     },
     "execution_count": 40,
     "metadata": {},
     "output_type": "execute_result"
    }
   ],
   "source": [
    "# swapcase()\n",
    "\n",
    "my_string2.swapcase()"
   ]
  },
  {
   "cell_type": "markdown",
   "metadata": {},
   "source": [
    "## Data Structures in Python"
   ]
  },
  {
   "cell_type": "markdown",
   "metadata": {},
   "source": [
    "### Lists\n",
    "\n",
    "Comma-separated elements inside square brackets.\n",
    "\n",
    "Can contain elements of different data types (str, int, float, bool, etc.)"
   ]
  },
  {
   "cell_type": "code",
   "execution_count": 62,
   "metadata": {},
   "outputs": [
    {
     "name": "stdout",
     "output_type": "stream",
     "text": [
      "[2, 5, 17, 1.5, False, 'hi!']\n"
     ]
    }
   ],
   "source": [
    "# Creating a list\n",
    "\n",
    "my_list = [2, 5,17, 1.5, False, \"hi!\"]\n",
    "print(my_list)"
   ]
  },
  {
   "cell_type": "code",
   "execution_count": 50,
   "metadata": {},
   "outputs": [
    {
     "data": {
      "text/plain": [
       "[2, 5, 17, 1.5, False, 'hi!']"
      ]
     },
     "execution_count": 50,
     "metadata": {},
     "output_type": "execute_result"
    }
   ],
   "source": [
    "# Indexing a list\n",
    "\n",
    "my_list[2:5]\n",
    "my_list[2:]\n",
    "my_list[:4]\n",
    "my_list[:]"
   ]
  },
  {
   "cell_type": "code",
   "execution_count": 64,
   "metadata": {},
   "outputs": [
    {
     "name": "stdout",
     "output_type": "stream",
     "text": [
      "[5, 17, 1.5, False, 'hi!']\n",
      "[2, 5, 17, 1.5, False, 'hi!']\n"
     ]
    }
   ],
   "source": [
    "my_list1 = my_list[:]\n",
    "\n",
    "del my_list1[0]\n",
    "\n",
    "print(my_list1)\n",
    "print(my_list)"
   ]
  },
  {
   "cell_type": "code",
   "execution_count": 69,
   "metadata": {},
   "outputs": [],
   "source": [
    "# Lists are mutable - can be changed\n",
    "# extend()\n",
    "\n",
    "my_list1.extend([2,3,4])"
   ]
  },
  {
   "cell_type": "code",
   "execution_count": 70,
   "metadata": {},
   "outputs": [
    {
     "name": "stdout",
     "output_type": "stream",
     "text": [
      "[1.5, False, 'hi!', 2, 3, 4]\n"
     ]
    }
   ],
   "source": [
    "print(my_list1)"
   ]
  },
  {
   "cell_type": "code",
   "execution_count": 67,
   "metadata": {},
   "outputs": [
    {
     "name": "stdout",
     "output_type": "stream",
     "text": [
      "[1.5, False, 'hi!']\n"
     ]
    }
   ],
   "source": [
    "# del()\n",
    "\n",
    "my_list1 = my_list[:]\n",
    "\n",
    "del my_list1[0:3]\n",
    "print(my_list1)"
   ]
  },
  {
   "cell_type": "markdown",
   "metadata": {},
   "source": [
    "### Dictionaries\n",
    "\n",
    "Similar to a list, but has keys and values.\n",
    "\n",
    "The keys are like the index, and values are the elements corresponding to the index.\n",
    "\n",
    "Created with curly braces. Format: {key1:value1, key2:value2, ...}\n"
   ]
  },
  {
   "cell_type": "code",
   "execution_count": 71,
   "metadata": {},
   "outputs": [],
   "source": [
    "# Ages\n",
    "\n",
    "Ages = {\"Richard\": 22, \"Alice\":21, \"Varchasvi\":20}"
   ]
  },
  {
   "cell_type": "code",
   "execution_count": 72,
   "metadata": {},
   "outputs": [
    {
     "name": "stdout",
     "output_type": "stream",
     "text": [
      "{'Richard': 22, 'Alice': 21, 'Varchasvi': 20}\n"
     ]
    }
   ],
   "source": [
    "print(Ages)"
   ]
  },
  {
   "cell_type": "code",
   "execution_count": 73,
   "metadata": {},
   "outputs": [
    {
     "name": "stdout",
     "output_type": "stream",
     "text": [
      "21\n"
     ]
    }
   ],
   "source": [
    "# Keys are used to look up values\n",
    "\n",
    "print(Ages[\"Alice\"])"
   ]
  },
  {
   "cell_type": "code",
   "execution_count": 75,
   "metadata": {
    "scrolled": true
   },
   "outputs": [
    {
     "name": "stdout",
     "output_type": "stream",
     "text": [
      "19\n"
     ]
    }
   ],
   "source": [
    "# Adding new keys and values to the dictionary by indexing\n",
    "\n",
    "Ages[\"Josh\"] = 19\n",
    "print(Ages[\"Josh\"])"
   ]
  },
  {
   "cell_type": "markdown",
   "metadata": {},
   "source": [
    "## Programming Fundamentals"
   ]
  },
  {
   "cell_type": "markdown",
   "metadata": {},
   "source": [
    "### Comparison Operations and Conditionals\n",
    "\n",
    "Comparison operations compare some value or operand and then, based on some condition they\n",
    "produce a Boolean."
   ]
  },
  {
   "cell_type": "code",
   "execution_count": 79,
   "metadata": {},
   "outputs": [
    {
     "name": "stdout",
     "output_type": "stream",
     "text": [
      "True\n"
     ]
    }
   ],
   "source": [
    "# geq\n",
    "\n",
    "num = 7\n",
    "\n",
    "print(7>=num)"
   ]
  },
  {
   "cell_type": "code",
   "execution_count": 80,
   "metadata": {},
   "outputs": [
    {
     "name": "stdout",
     "output_type": "stream",
     "text": [
      "True\n"
     ]
    }
   ],
   "source": [
    "# == \n",
    "\n",
    "print(7==num)"
   ]
  },
  {
   "cell_type": "code",
   "execution_count": 81,
   "metadata": {},
   "outputs": [
    {
     "name": "stdout",
     "output_type": "stream",
     "text": [
      "False\n"
     ]
    }
   ],
   "source": [
    "# !=\n",
    "\n",
    "print(7!=num)"
   ]
  },
  {
   "cell_type": "markdown",
   "metadata": {},
   "source": [
    "Conditionals perform actions depending on the output of comparison operators"
   ]
  },
  {
   "cell_type": "code",
   "execution_count": 87,
   "metadata": {},
   "outputs": [
    {
     "name": "stdout",
     "output_type": "stream",
     "text": [
      "Enter but no drinking\n"
     ]
    }
   ],
   "source": [
    "# Suppose you want to decide whether or not someone can enter an 18+ concert based on their age\n",
    "\n",
    "age = 17\n",
    "\n",
    "if age >= 18:\n",
    "    print(\"You can enter\")\n",
    "elif age == 17:\n",
    "    print(\"Enter but no drinking\")\n",
    "else:\n",
    "    print(\"Access Denied\")"
   ]
  },
  {
   "cell_type": "code",
   "execution_count": 90,
   "metadata": {},
   "outputs": [],
   "source": [
    "# and: Checking if multiple conditions are true\n",
    "# Suppose you want to decide whether or not someone can enter an 18+ concert based on their age and whether they have a ticket\n",
    "\n",
    "age = 19\n",
    "ticket = False\n",
    "\n",
    "if age>=18 and ticket == True:\n",
    "    print(\"You can enter\")"
   ]
  },
  {
   "cell_type": "markdown",
   "metadata": {},
   "source": [
    "### Loops\n",
    "\n",
    "Loops can be used to go through a list or some other data type one by one and perform a task over and over.\n",
    "\n",
    "Let's discuss the range() function first. range(N) outputs an orrdered sequence of numbers [0, 1, 2, 3, ..., N-1]\n"
   ]
  },
  {
   "cell_type": "code",
   "execution_count": 91,
   "metadata": {},
   "outputs": [
    {
     "data": {
      "text/plain": [
       "[0, 1, 2, 3, 4]"
      ]
     },
     "execution_count": 91,
     "metadata": {},
     "output_type": "execute_result"
    }
   ],
   "source": [
    "list(range(5))"
   ]
  },
  {
   "cell_type": "code",
   "execution_count": 92,
   "metadata": {},
   "outputs": [
    {
     "data": {
      "text/plain": [
       "[10, 11, 12, 13, 14]"
      ]
     },
     "execution_count": 92,
     "metadata": {},
     "output_type": "execute_result"
    }
   ],
   "source": [
    "list(range(10,15))"
   ]
  },
  {
   "cell_type": "markdown",
   "metadata": {},
   "source": [
    "Suppose you want to go through a list of numbers and replace them with their squares."
   ]
  },
  {
   "cell_type": "code",
   "execution_count": 93,
   "metadata": {},
   "outputs": [
    {
     "name": "stdout",
     "output_type": "stream",
     "text": [
      "[1, 16, 9, 25, 0.25]\n"
     ]
    }
   ],
   "source": [
    "numbers = [1,4,3,-5,0.5]\n",
    "\n",
    "for index in range(5):\n",
    "    numbers[index] = numbers[index]**2\n",
    "\n",
    "print(numbers)"
   ]
  },
  {
   "cell_type": "markdown",
   "metadata": {},
   "source": [
    "### Functions\n",
    "\n",
    "Functions take in inputs, perform some operations, and give out outputs. You can wirte your own functions that do exactly what you want. Mostly, you use pre-written functions from \"libraries\"."
   ]
  },
  {
   "cell_type": "code",
   "execution_count": 97,
   "metadata": {},
   "outputs": [
    {
     "data": {
      "text/plain": [
       "1"
      ]
     },
     "execution_count": 97,
     "metadata": {},
     "output_type": "execute_result"
    }
   ],
   "source": [
    "# Writing a function that squares its inputs\n",
    "\n",
    "def sq(x):\n",
    "    output = x**2\n",
    "    return(output)\n",
    "\n",
    "sq(0.5)\n",
    "sq(5)\n",
    "sq(-1)"
   ]
  },
  {
   "cell_type": "markdown",
   "metadata": {},
   "source": [
    "Some built-in functions:"
   ]
  },
  {
   "cell_type": "code",
   "execution_count": 100,
   "metadata": {},
   "outputs": [
    {
     "name": "stdout",
     "output_type": "stream",
     "text": [
      "5\n",
      "6\n"
     ]
    }
   ],
   "source": [
    "# len()\n",
    "\n",
    "print(len(numbers))\n",
    "print(len(my_list))"
   ]
  },
  {
   "cell_type": "code",
   "execution_count": 101,
   "metadata": {},
   "outputs": [
    {
     "data": {
      "text/plain": [
       "51.25"
      ]
     },
     "execution_count": 101,
     "metadata": {},
     "output_type": "execute_result"
    }
   ],
   "source": [
    "# sum()\n",
    "\n",
    "sum(numbers)"
   ]
  },
  {
   "cell_type": "markdown",
   "metadata": {},
   "source": [
    "## Loading datasets!\n",
    " \n",
    "Libraries are pre-written code to help solve problems.\n",
    "\n",
    "In this section, we will introduce pandas–a popular library for data analysis.\n",
    "\n",
    "We can import the library or a dependency like pandas using the following command.\n",
    "\n",
    "We start with the import command followed by the name of the library.\n",
    "We now have access to a large number of pre-built classes and functions.\n",
    "This assumes the library is installed. In our lab environment, all the necessary libraries\n",
    "are installed. "
   ]
  },
  {
   "cell_type": "code",
   "execution_count": 102,
   "metadata": {},
   "outputs": [],
   "source": [
    "import pandas"
   ]
  },
  {
   "cell_type": "markdown",
   "metadata": {},
   "source": [
    "We can import it with an alias, say \"pd\", so we don't have to type its whole name every time we use a function from it."
   ]
  },
  {
   "cell_type": "code",
   "execution_count": 103,
   "metadata": {},
   "outputs": [],
   "source": [
    "import pandas as pd"
   ]
  },
  {
   "cell_type": "markdown",
   "metadata": {},
   "source": [
    "Let's say we have a .csv file with data, named \"Tennis_World_Number_1s.csv\" . We can import as a data frame it like this"
   ]
  },
  {
   "cell_type": "code",
   "execution_count": 104,
   "metadata": {},
   "outputs": [],
   "source": [
    "# pd.read_csv()\n",
    "\n",
    "tennis = pd.read_csv(\"Tennis_World_Number_1s.csv\")"
   ]
  },
  {
   "cell_type": "code",
   "execution_count": 106,
   "metadata": {},
   "outputs": [
    {
     "data": {
      "text/html": [
       "<div>\n",
       "<style scoped>\n",
       "    .dataframe tbody tr th:only-of-type {\n",
       "        vertical-align: middle;\n",
       "    }\n",
       "\n",
       "    .dataframe tbody tr th {\n",
       "        vertical-align: top;\n",
       "    }\n",
       "\n",
       "    .dataframe thead th {\n",
       "        text-align: right;\n",
       "    }\n",
       "</style>\n",
       "<table border=\"1\" class=\"dataframe\">\n",
       "  <thead>\n",
       "    <tr style=\"text-align: right;\">\n",
       "      <th></th>\n",
       "      <th>Tennis_Player</th>\n",
       "      <th>Total_Weeks_at_No_1</th>\n",
       "      <th>Maximum_Consectutive_Weeks_at_no_1</th>\n",
       "      <th>Years_End_no_1</th>\n",
       "      <th>Careers_Wins_Losses</th>\n",
       "      <th>Titles</th>\n",
       "      <th>Prize_Money</th>\n",
       "      <th>Unnamed: 7</th>\n",
       "    </tr>\n",
       "  </thead>\n",
       "  <tbody>\n",
       "    <tr>\n",
       "      <th>0</th>\n",
       "      <td>Roger Federer</td>\n",
       "      <td>310</td>\n",
       "      <td>237</td>\n",
       "      <td>5</td>\n",
       "      <td>1222-265</td>\n",
       "      <td>102</td>\n",
       "      <td>126266005</td>\n",
       "      <td>NaN</td>\n",
       "    </tr>\n",
       "    <tr>\n",
       "      <th>1</th>\n",
       "      <td>Pete Sampras</td>\n",
       "      <td>286</td>\n",
       "      <td>102</td>\n",
       "      <td>6</td>\n",
       "      <td>762-222</td>\n",
       "      <td>64</td>\n",
       "      <td>43280489</td>\n",
       "      <td>NaN</td>\n",
       "    </tr>\n",
       "    <tr>\n",
       "      <th>2</th>\n",
       "      <td>Ivan Lendl</td>\n",
       "      <td>270</td>\n",
       "      <td>157</td>\n",
       "      <td>4</td>\n",
       "      <td>1068-242</td>\n",
       "      <td>94</td>\n",
       "      <td>21262417</td>\n",
       "      <td>NaN</td>\n",
       "    </tr>\n",
       "    <tr>\n",
       "      <th>3</th>\n",
       "      <td>Jimmy Connors</td>\n",
       "      <td>268</td>\n",
       "      <td>160</td>\n",
       "      <td>5</td>\n",
       "      <td>1274-282</td>\n",
       "      <td>109</td>\n",
       "      <td>8641040</td>\n",
       "      <td>NaN</td>\n",
       "    </tr>\n",
       "    <tr>\n",
       "      <th>4</th>\n",
       "      <td>Novak Djokovic</td>\n",
       "      <td>264</td>\n",
       "      <td>122</td>\n",
       "      <td>5</td>\n",
       "      <td>871-182</td>\n",
       "      <td>75</td>\n",
       "      <td>134684000</td>\n",
       "      <td>NaN</td>\n",
       "    </tr>\n",
       "    <tr>\n",
       "      <th>5</th>\n",
       "      <td>Rafael Nadal</td>\n",
       "      <td>196</td>\n",
       "      <td>56</td>\n",
       "      <td>4</td>\n",
       "      <td>960-196</td>\n",
       "      <td>83</td>\n",
       "      <td>111328858</td>\n",
       "      <td>NaN</td>\n",
       "    </tr>\n",
       "    <tr>\n",
       "      <th>6</th>\n",
       "      <td>John McEnroe</td>\n",
       "      <td>170</td>\n",
       "      <td>58</td>\n",
       "      <td>4</td>\n",
       "      <td>881-198</td>\n",
       "      <td>77</td>\n",
       "      <td>12552132</td>\n",
       "      <td>NaN</td>\n",
       "    </tr>\n",
       "    <tr>\n",
       "      <th>7</th>\n",
       "      <td>Bjorn Borg</td>\n",
       "      <td>109</td>\n",
       "      <td>46</td>\n",
       "      <td>2</td>\n",
       "      <td>644-135</td>\n",
       "      <td>64</td>\n",
       "      <td>3655751</td>\n",
       "      <td>NaN</td>\n",
       "    </tr>\n",
       "    <tr>\n",
       "      <th>8</th>\n",
       "      <td>Andre Agassi</td>\n",
       "      <td>101</td>\n",
       "      <td>52</td>\n",
       "      <td>1</td>\n",
       "      <td>870-274</td>\n",
       "      <td>60</td>\n",
       "      <td>31152975</td>\n",
       "      <td>NaN</td>\n",
       "    </tr>\n",
       "    <tr>\n",
       "      <th>9</th>\n",
       "      <td>Lleyton Hewitt</td>\n",
       "      <td>80</td>\n",
       "      <td>75</td>\n",
       "      <td>2</td>\n",
       "      <td>616-262</td>\n",
       "      <td>30</td>\n",
       "      <td>20879934</td>\n",
       "      <td>NaN</td>\n",
       "    </tr>\n",
       "    <tr>\n",
       "      <th>10</th>\n",
       "      <td>Stefan Edberg</td>\n",
       "      <td>72</td>\n",
       "      <td>24</td>\n",
       "      <td>2</td>\n",
       "      <td>801-270</td>\n",
       "      <td>41</td>\n",
       "      <td>20630941</td>\n",
       "      <td>NaN</td>\n",
       "    </tr>\n",
       "    <tr>\n",
       "      <th>11</th>\n",
       "      <td>Jim Courier</td>\n",
       "      <td>58</td>\n",
       "      <td>27</td>\n",
       "      <td>1</td>\n",
       "      <td>506-237</td>\n",
       "      <td>23</td>\n",
       "      <td>14034132</td>\n",
       "      <td>NaN</td>\n",
       "    </tr>\n",
       "    <tr>\n",
       "      <th>12</th>\n",
       "      <td>Gustavo Kuerten</td>\n",
       "      <td>43</td>\n",
       "      <td>30</td>\n",
       "      <td>1</td>\n",
       "      <td>358-195</td>\n",
       "      <td>20</td>\n",
       "      <td>14807000</td>\n",
       "      <td>NaN</td>\n",
       "    </tr>\n",
       "    <tr>\n",
       "      <th>13</th>\n",
       "      <td>Andy Murray</td>\n",
       "      <td>41</td>\n",
       "      <td>41</td>\n",
       "      <td>1</td>\n",
       "      <td>663-191</td>\n",
       "      <td>45</td>\n",
       "      <td>61217017</td>\n",
       "      <td>NaN</td>\n",
       "    </tr>\n",
       "    <tr>\n",
       "      <th>14</th>\n",
       "      <td>Ilie Nastase</td>\n",
       "      <td>40</td>\n",
       "      <td>40</td>\n",
       "      <td>1</td>\n",
       "      <td>858-320</td>\n",
       "      <td>59</td>\n",
       "      <td>2076761</td>\n",
       "      <td>NaN</td>\n",
       "    </tr>\n",
       "    <tr>\n",
       "      <th>15</th>\n",
       "      <td>Mats Wilander</td>\n",
       "      <td>20</td>\n",
       "      <td>20</td>\n",
       "      <td>1</td>\n",
       "      <td>571-222</td>\n",
       "      <td>33</td>\n",
       "      <td>7956101</td>\n",
       "      <td>NaN</td>\n",
       "    </tr>\n",
       "    <tr>\n",
       "      <th>16</th>\n",
       "      <td>Andy Roddick</td>\n",
       "      <td>13</td>\n",
       "      <td>13</td>\n",
       "      <td>1</td>\n",
       "      <td>612-213</td>\n",
       "      <td>32</td>\n",
       "      <td>20640030</td>\n",
       "      <td>NaN</td>\n",
       "    </tr>\n",
       "    <tr>\n",
       "      <th>17</th>\n",
       "      <td>Boris Becker</td>\n",
       "      <td>12</td>\n",
       "      <td>9</td>\n",
       "      <td>0</td>\n",
       "      <td>713-214</td>\n",
       "      <td>49</td>\n",
       "      <td>25080956</td>\n",
       "      <td>NaN</td>\n",
       "    </tr>\n",
       "    <tr>\n",
       "      <th>18</th>\n",
       "      <td>Marat Safin</td>\n",
       "      <td>9</td>\n",
       "      <td>4</td>\n",
       "      <td>0</td>\n",
       "      <td>422-267</td>\n",
       "      <td>15</td>\n",
       "      <td>14373291</td>\n",
       "      <td>NaN</td>\n",
       "    </tr>\n",
       "    <tr>\n",
       "      <th>19</th>\n",
       "      <td>Juan Carlos Ferrero</td>\n",
       "      <td>8</td>\n",
       "      <td>8</td>\n",
       "      <td>0</td>\n",
       "      <td>479-262</td>\n",
       "      <td>16</td>\n",
       "      <td>13998165</td>\n",
       "      <td>NaN</td>\n",
       "    </tr>\n",
       "    <tr>\n",
       "      <th>20</th>\n",
       "      <td>John Newcombe</td>\n",
       "      <td>8</td>\n",
       "      <td>8</td>\n",
       "      <td>0</td>\n",
       "      <td>552-198</td>\n",
       "      <td>35</td>\n",
       "      <td>1062408</td>\n",
       "      <td>NaN</td>\n",
       "    </tr>\n",
       "    <tr>\n",
       "      <th>21</th>\n",
       "      <td>Yevgeny Kafelnikov</td>\n",
       "      <td>6</td>\n",
       "      <td>6</td>\n",
       "      <td>0</td>\n",
       "      <td>609-306</td>\n",
       "      <td>26</td>\n",
       "      <td>23883797</td>\n",
       "      <td>NaN</td>\n",
       "    </tr>\n",
       "    <tr>\n",
       "      <th>22</th>\n",
       "      <td>Thomas Muster</td>\n",
       "      <td>6</td>\n",
       "      <td>5</td>\n",
       "      <td>0</td>\n",
       "      <td>625-273</td>\n",
       "      <td>44</td>\n",
       "      <td>12266977</td>\n",
       "      <td>NaN</td>\n",
       "    </tr>\n",
       "    <tr>\n",
       "      <th>23</th>\n",
       "      <td>Marcelo Rios</td>\n",
       "      <td>6</td>\n",
       "      <td>4</td>\n",
       "      <td>0</td>\n",
       "      <td>391-192</td>\n",
       "      <td>18</td>\n",
       "      <td>9713771</td>\n",
       "      <td>NaN</td>\n",
       "    </tr>\n",
       "    <tr>\n",
       "      <th>24</th>\n",
       "      <td>Carlos Moya</td>\n",
       "      <td>2</td>\n",
       "      <td>2</td>\n",
       "      <td>0</td>\n",
       "      <td>575-319</td>\n",
       "      <td>20</td>\n",
       "      <td>13443970</td>\n",
       "      <td>NaN</td>\n",
       "    </tr>\n",
       "    <tr>\n",
       "      <th>25</th>\n",
       "      <td>Patrick Rafter</td>\n",
       "      <td>1</td>\n",
       "      <td>1</td>\n",
       "      <td>0</td>\n",
       "      <td>358-191</td>\n",
       "      <td>11</td>\n",
       "      <td>11133128</td>\n",
       "      <td>NaN</td>\n",
       "    </tr>\n",
       "  </tbody>\n",
       "</table>\n",
       "</div>"
      ],
      "text/plain": [
       "          Tennis_Player  Total_Weeks_at_No_1  \\\n",
       "0         Roger Federer                  310   \n",
       "1          Pete Sampras                  286   \n",
       "2            Ivan Lendl                  270   \n",
       "3         Jimmy Connors                  268   \n",
       "4        Novak Djokovic                  264   \n",
       "5          Rafael Nadal                  196   \n",
       "6          John McEnroe                  170   \n",
       "7            Bjorn Borg                  109   \n",
       "8          Andre Agassi                  101   \n",
       "9        Lleyton Hewitt                   80   \n",
       "10        Stefan Edberg                   72   \n",
       "11          Jim Courier                   58   \n",
       "12      Gustavo Kuerten                   43   \n",
       "13          Andy Murray                   41   \n",
       "14         Ilie Nastase                   40   \n",
       "15        Mats Wilander                   20   \n",
       "16         Andy Roddick                   13   \n",
       "17         Boris Becker                   12   \n",
       "18          Marat Safin                    9   \n",
       "19  Juan Carlos Ferrero                    8   \n",
       "20        John Newcombe                    8   \n",
       "21   Yevgeny Kafelnikov                    6   \n",
       "22        Thomas Muster                    6   \n",
       "23         Marcelo Rios                    6   \n",
       "24          Carlos Moya                    2   \n",
       "25       Patrick Rafter                    1   \n",
       "\n",
       "    Maximum_Consectutive_Weeks_at_no_1  Years_End_no_1 Careers_Wins_Losses  \\\n",
       "0                                  237               5            1222-265   \n",
       "1                                  102               6             762-222   \n",
       "2                                  157               4            1068-242   \n",
       "3                                  160               5            1274-282   \n",
       "4                                  122               5             871-182   \n",
       "5                                   56               4             960-196   \n",
       "6                                   58               4             881-198   \n",
       "7                                   46               2             644-135   \n",
       "8                                   52               1             870-274   \n",
       "9                                   75               2             616-262   \n",
       "10                                  24               2             801-270   \n",
       "11                                  27               1             506-237   \n",
       "12                                  30               1             358-195   \n",
       "13                                  41               1             663-191   \n",
       "14                                  40               1             858-320   \n",
       "15                                  20               1             571-222   \n",
       "16                                  13               1             612-213   \n",
       "17                                   9               0             713-214   \n",
       "18                                   4               0             422-267   \n",
       "19                                   8               0             479-262   \n",
       "20                                   8               0             552-198   \n",
       "21                                   6               0             609-306   \n",
       "22                                   5               0             625-273   \n",
       "23                                   4               0             391-192   \n",
       "24                                   2               0             575-319   \n",
       "25                                   1               0             358-191   \n",
       "\n",
       "    Titles  Prize_Money  Unnamed: 7  \n",
       "0      102    126266005         NaN  \n",
       "1       64     43280489         NaN  \n",
       "2       94     21262417         NaN  \n",
       "3      109      8641040         NaN  \n",
       "4       75    134684000         NaN  \n",
       "5       83    111328858         NaN  \n",
       "6       77     12552132         NaN  \n",
       "7       64      3655751         NaN  \n",
       "8       60     31152975         NaN  \n",
       "9       30     20879934         NaN  \n",
       "10      41     20630941         NaN  \n",
       "11      23     14034132         NaN  \n",
       "12      20     14807000         NaN  \n",
       "13      45     61217017         NaN  \n",
       "14      59      2076761         NaN  \n",
       "15      33      7956101         NaN  \n",
       "16      32     20640030         NaN  \n",
       "17      49     25080956         NaN  \n",
       "18      15     14373291         NaN  \n",
       "19      16     13998165         NaN  \n",
       "20      35      1062408         NaN  \n",
       "21      26     23883797         NaN  \n",
       "22      44     12266977         NaN  \n",
       "23      18      9713771         NaN  \n",
       "24      20     13443970         NaN  \n",
       "25      11     11133128         NaN  "
      ]
     },
     "execution_count": 106,
     "metadata": {},
     "output_type": "execute_result"
    }
   ],
   "source": [
    "tennis"
   ]
  },
  {
   "cell_type": "code",
   "execution_count": 107,
   "metadata": {},
   "outputs": [
    {
     "data": {
      "text/plain": [
       "Index(['Tennis_Player', 'Total_Weeks_at_No_1',\n",
       "       'Maximum_Consectutive_Weeks_at_no_1', 'Years_End_no_1',\n",
       "       'Careers_Wins_Losses', 'Titles', 'Prize_Money', 'Unnamed: 7'],\n",
       "      dtype='object')"
      ]
     },
     "execution_count": 107,
     "metadata": {},
     "output_type": "execute_result"
    }
   ],
   "source": [
    "# Get the names of all columns using the columns attribute\n",
    "\n",
    "tennis.columns"
   ]
  },
  {
   "cell_type": "code",
   "execution_count": 108,
   "metadata": {},
   "outputs": [
    {
     "data": {
      "text/plain": [
       "Tennis_Player                          object\n",
       "Total_Weeks_at_No_1                     int64\n",
       "Maximum_Consectutive_Weeks_at_no_1      int64\n",
       "Years_End_no_1                          int64\n",
       "Careers_Wins_Losses                    object\n",
       "Titles                                  int64\n",
       "Prize_Money                             int64\n",
       "Unnamed: 7                            float64\n",
       "dtype: object"
      ]
     },
     "execution_count": 108,
     "metadata": {},
     "output_type": "execute_result"
    }
   ],
   "source": [
    "# Data types of the columns with .dtypes\n",
    "\n",
    "tennis.dtypes"
   ]
  },
  {
   "cell_type": "code",
   "execution_count": 109,
   "metadata": {},
   "outputs": [
    {
     "data": {
      "text/plain": [
       "(26, 8)"
      ]
     },
     "execution_count": 109,
     "metadata": {},
     "output_type": "execute_result"
    }
   ],
   "source": [
    "# Shape of the dataframe\n",
    "\n",
    "tennis.shape"
   ]
  },
  {
   "cell_type": "code",
   "execution_count": 110,
   "metadata": {},
   "outputs": [
    {
     "data": {
      "text/plain": [
       "Tennis_Player                          0\n",
       "Total_Weeks_at_No_1                    0\n",
       "Maximum_Consectutive_Weeks_at_no_1     0\n",
       "Years_End_no_1                         0\n",
       "Careers_Wins_Losses                    0\n",
       "Titles                                 0\n",
       "Prize_Money                            0\n",
       "Unnamed: 7                            26\n",
       "dtype: int64"
      ]
     },
     "execution_count": 110,
     "metadata": {},
     "output_type": "execute_result"
    }
   ],
   "source": [
    "# Check for NA values\n",
    "\n",
    "tennis.isna().sum()"
   ]
  },
  {
   "cell_type": "code",
   "execution_count": 111,
   "metadata": {},
   "outputs": [],
   "source": [
    "# Drop the unnecessary column \"Unnamed: 7\"\n",
    "# tennis.drop(\"Unnamed: 7\", axis = 1, inplace = True)\n",
    "\n",
    "tennis.drop(\"Unnamed: 7\", axis=1, inplace=True)"
   ]
  },
  {
   "cell_type": "code",
   "execution_count": 112,
   "metadata": {},
   "outputs": [
    {
     "data": {
      "text/plain": [
       "Index(['Tennis_Player', 'Total_Weeks_at_No_1',\n",
       "       'Maximum_Consectutive_Weeks_at_no_1', 'Years_End_no_1',\n",
       "       'Careers_Wins_Losses', 'Titles', 'Prize_Money'],\n",
       "      dtype='object')"
      ]
     },
     "execution_count": 112,
     "metadata": {},
     "output_type": "execute_result"
    }
   ],
   "source": [
    "# Check columns again\n",
    "\n",
    "tennis.columns"
   ]
  },
  {
   "cell_type": "code",
   "execution_count": 113,
   "metadata": {},
   "outputs": [
    {
     "data": {
      "text/html": [
       "<div>\n",
       "<style scoped>\n",
       "    .dataframe tbody tr th:only-of-type {\n",
       "        vertical-align: middle;\n",
       "    }\n",
       "\n",
       "    .dataframe tbody tr th {\n",
       "        vertical-align: top;\n",
       "    }\n",
       "\n",
       "    .dataframe thead th {\n",
       "        text-align: right;\n",
       "    }\n",
       "</style>\n",
       "<table border=\"1\" class=\"dataframe\">\n",
       "  <thead>\n",
       "    <tr style=\"text-align: right;\">\n",
       "      <th></th>\n",
       "      <th>Tennis_Player</th>\n",
       "      <th>Total_Weeks_at_No_1</th>\n",
       "      <th>Maximum_Consectutive_Weeks_at_no_1</th>\n",
       "      <th>Years_End_no_1</th>\n",
       "      <th>Careers_Wins_Losses</th>\n",
       "      <th>Titles</th>\n",
       "      <th>Prize_Money</th>\n",
       "    </tr>\n",
       "  </thead>\n",
       "  <tbody>\n",
       "    <tr>\n",
       "      <th>0</th>\n",
       "      <td>Roger Federer</td>\n",
       "      <td>310</td>\n",
       "      <td>237</td>\n",
       "      <td>5</td>\n",
       "      <td>1222-265</td>\n",
       "      <td>102</td>\n",
       "      <td>126266005</td>\n",
       "    </tr>\n",
       "    <tr>\n",
       "      <th>1</th>\n",
       "      <td>Pete Sampras</td>\n",
       "      <td>286</td>\n",
       "      <td>102</td>\n",
       "      <td>6</td>\n",
       "      <td>762-222</td>\n",
       "      <td>64</td>\n",
       "      <td>43280489</td>\n",
       "    </tr>\n",
       "    <tr>\n",
       "      <th>2</th>\n",
       "      <td>Ivan Lendl</td>\n",
       "      <td>270</td>\n",
       "      <td>157</td>\n",
       "      <td>4</td>\n",
       "      <td>1068-242</td>\n",
       "      <td>94</td>\n",
       "      <td>21262417</td>\n",
       "    </tr>\n",
       "    <tr>\n",
       "      <th>3</th>\n",
       "      <td>Jimmy Connors</td>\n",
       "      <td>268</td>\n",
       "      <td>160</td>\n",
       "      <td>5</td>\n",
       "      <td>1274-282</td>\n",
       "      <td>109</td>\n",
       "      <td>8641040</td>\n",
       "    </tr>\n",
       "    <tr>\n",
       "      <th>4</th>\n",
       "      <td>Novak Djokovic</td>\n",
       "      <td>264</td>\n",
       "      <td>122</td>\n",
       "      <td>5</td>\n",
       "      <td>871-182</td>\n",
       "      <td>75</td>\n",
       "      <td>134684000</td>\n",
       "    </tr>\n",
       "    <tr>\n",
       "      <th>5</th>\n",
       "      <td>Rafael Nadal</td>\n",
       "      <td>196</td>\n",
       "      <td>56</td>\n",
       "      <td>4</td>\n",
       "      <td>960-196</td>\n",
       "      <td>83</td>\n",
       "      <td>111328858</td>\n",
       "    </tr>\n",
       "    <tr>\n",
       "      <th>6</th>\n",
       "      <td>John McEnroe</td>\n",
       "      <td>170</td>\n",
       "      <td>58</td>\n",
       "      <td>4</td>\n",
       "      <td>881-198</td>\n",
       "      <td>77</td>\n",
       "      <td>12552132</td>\n",
       "    </tr>\n",
       "    <tr>\n",
       "      <th>7</th>\n",
       "      <td>Bjorn Borg</td>\n",
       "      <td>109</td>\n",
       "      <td>46</td>\n",
       "      <td>2</td>\n",
       "      <td>644-135</td>\n",
       "      <td>64</td>\n",
       "      <td>3655751</td>\n",
       "    </tr>\n",
       "    <tr>\n",
       "      <th>8</th>\n",
       "      <td>Andre Agassi</td>\n",
       "      <td>101</td>\n",
       "      <td>52</td>\n",
       "      <td>1</td>\n",
       "      <td>870-274</td>\n",
       "      <td>60</td>\n",
       "      <td>31152975</td>\n",
       "    </tr>\n",
       "    <tr>\n",
       "      <th>9</th>\n",
       "      <td>Lleyton Hewitt</td>\n",
       "      <td>80</td>\n",
       "      <td>75</td>\n",
       "      <td>2</td>\n",
       "      <td>616-262</td>\n",
       "      <td>30</td>\n",
       "      <td>20879934</td>\n",
       "    </tr>\n",
       "    <tr>\n",
       "      <th>10</th>\n",
       "      <td>Stefan Edberg</td>\n",
       "      <td>72</td>\n",
       "      <td>24</td>\n",
       "      <td>2</td>\n",
       "      <td>801-270</td>\n",
       "      <td>41</td>\n",
       "      <td>20630941</td>\n",
       "    </tr>\n",
       "    <tr>\n",
       "      <th>11</th>\n",
       "      <td>Jim Courier</td>\n",
       "      <td>58</td>\n",
       "      <td>27</td>\n",
       "      <td>1</td>\n",
       "      <td>506-237</td>\n",
       "      <td>23</td>\n",
       "      <td>14034132</td>\n",
       "    </tr>\n",
       "    <tr>\n",
       "      <th>12</th>\n",
       "      <td>Gustavo Kuerten</td>\n",
       "      <td>43</td>\n",
       "      <td>30</td>\n",
       "      <td>1</td>\n",
       "      <td>358-195</td>\n",
       "      <td>20</td>\n",
       "      <td>14807000</td>\n",
       "    </tr>\n",
       "    <tr>\n",
       "      <th>13</th>\n",
       "      <td>Andy Murray</td>\n",
       "      <td>41</td>\n",
       "      <td>41</td>\n",
       "      <td>1</td>\n",
       "      <td>663-191</td>\n",
       "      <td>45</td>\n",
       "      <td>61217017</td>\n",
       "    </tr>\n",
       "    <tr>\n",
       "      <th>14</th>\n",
       "      <td>Ilie Nastase</td>\n",
       "      <td>40</td>\n",
       "      <td>40</td>\n",
       "      <td>1</td>\n",
       "      <td>858-320</td>\n",
       "      <td>59</td>\n",
       "      <td>2076761</td>\n",
       "    </tr>\n",
       "    <tr>\n",
       "      <th>15</th>\n",
       "      <td>Mats Wilander</td>\n",
       "      <td>20</td>\n",
       "      <td>20</td>\n",
       "      <td>1</td>\n",
       "      <td>571-222</td>\n",
       "      <td>33</td>\n",
       "      <td>7956101</td>\n",
       "    </tr>\n",
       "    <tr>\n",
       "      <th>16</th>\n",
       "      <td>Andy Roddick</td>\n",
       "      <td>13</td>\n",
       "      <td>13</td>\n",
       "      <td>1</td>\n",
       "      <td>612-213</td>\n",
       "      <td>32</td>\n",
       "      <td>20640030</td>\n",
       "    </tr>\n",
       "    <tr>\n",
       "      <th>17</th>\n",
       "      <td>Boris Becker</td>\n",
       "      <td>12</td>\n",
       "      <td>9</td>\n",
       "      <td>0</td>\n",
       "      <td>713-214</td>\n",
       "      <td>49</td>\n",
       "      <td>25080956</td>\n",
       "    </tr>\n",
       "    <tr>\n",
       "      <th>18</th>\n",
       "      <td>Marat Safin</td>\n",
       "      <td>9</td>\n",
       "      <td>4</td>\n",
       "      <td>0</td>\n",
       "      <td>422-267</td>\n",
       "      <td>15</td>\n",
       "      <td>14373291</td>\n",
       "    </tr>\n",
       "    <tr>\n",
       "      <th>19</th>\n",
       "      <td>Juan Carlos Ferrero</td>\n",
       "      <td>8</td>\n",
       "      <td>8</td>\n",
       "      <td>0</td>\n",
       "      <td>479-262</td>\n",
       "      <td>16</td>\n",
       "      <td>13998165</td>\n",
       "    </tr>\n",
       "    <tr>\n",
       "      <th>20</th>\n",
       "      <td>John Newcombe</td>\n",
       "      <td>8</td>\n",
       "      <td>8</td>\n",
       "      <td>0</td>\n",
       "      <td>552-198</td>\n",
       "      <td>35</td>\n",
       "      <td>1062408</td>\n",
       "    </tr>\n",
       "    <tr>\n",
       "      <th>21</th>\n",
       "      <td>Yevgeny Kafelnikov</td>\n",
       "      <td>6</td>\n",
       "      <td>6</td>\n",
       "      <td>0</td>\n",
       "      <td>609-306</td>\n",
       "      <td>26</td>\n",
       "      <td>23883797</td>\n",
       "    </tr>\n",
       "    <tr>\n",
       "      <th>22</th>\n",
       "      <td>Thomas Muster</td>\n",
       "      <td>6</td>\n",
       "      <td>5</td>\n",
       "      <td>0</td>\n",
       "      <td>625-273</td>\n",
       "      <td>44</td>\n",
       "      <td>12266977</td>\n",
       "    </tr>\n",
       "    <tr>\n",
       "      <th>23</th>\n",
       "      <td>Marcelo Rios</td>\n",
       "      <td>6</td>\n",
       "      <td>4</td>\n",
       "      <td>0</td>\n",
       "      <td>391-192</td>\n",
       "      <td>18</td>\n",
       "      <td>9713771</td>\n",
       "    </tr>\n",
       "    <tr>\n",
       "      <th>24</th>\n",
       "      <td>Carlos Moya</td>\n",
       "      <td>2</td>\n",
       "      <td>2</td>\n",
       "      <td>0</td>\n",
       "      <td>575-319</td>\n",
       "      <td>20</td>\n",
       "      <td>13443970</td>\n",
       "    </tr>\n",
       "    <tr>\n",
       "      <th>25</th>\n",
       "      <td>Patrick Rafter</td>\n",
       "      <td>1</td>\n",
       "      <td>1</td>\n",
       "      <td>0</td>\n",
       "      <td>358-191</td>\n",
       "      <td>11</td>\n",
       "      <td>11133128</td>\n",
       "    </tr>\n",
       "  </tbody>\n",
       "</table>\n",
       "</div>"
      ],
      "text/plain": [
       "          Tennis_Player  Total_Weeks_at_No_1  \\\n",
       "0         Roger Federer                  310   \n",
       "1          Pete Sampras                  286   \n",
       "2            Ivan Lendl                  270   \n",
       "3         Jimmy Connors                  268   \n",
       "4        Novak Djokovic                  264   \n",
       "5          Rafael Nadal                  196   \n",
       "6          John McEnroe                  170   \n",
       "7            Bjorn Borg                  109   \n",
       "8          Andre Agassi                  101   \n",
       "9        Lleyton Hewitt                   80   \n",
       "10        Stefan Edberg                   72   \n",
       "11          Jim Courier                   58   \n",
       "12      Gustavo Kuerten                   43   \n",
       "13          Andy Murray                   41   \n",
       "14         Ilie Nastase                   40   \n",
       "15        Mats Wilander                   20   \n",
       "16         Andy Roddick                   13   \n",
       "17         Boris Becker                   12   \n",
       "18          Marat Safin                    9   \n",
       "19  Juan Carlos Ferrero                    8   \n",
       "20        John Newcombe                    8   \n",
       "21   Yevgeny Kafelnikov                    6   \n",
       "22        Thomas Muster                    6   \n",
       "23         Marcelo Rios                    6   \n",
       "24          Carlos Moya                    2   \n",
       "25       Patrick Rafter                    1   \n",
       "\n",
       "    Maximum_Consectutive_Weeks_at_no_1  Years_End_no_1 Careers_Wins_Losses  \\\n",
       "0                                  237               5            1222-265   \n",
       "1                                  102               6             762-222   \n",
       "2                                  157               4            1068-242   \n",
       "3                                  160               5            1274-282   \n",
       "4                                  122               5             871-182   \n",
       "5                                   56               4             960-196   \n",
       "6                                   58               4             881-198   \n",
       "7                                   46               2             644-135   \n",
       "8                                   52               1             870-274   \n",
       "9                                   75               2             616-262   \n",
       "10                                  24               2             801-270   \n",
       "11                                  27               1             506-237   \n",
       "12                                  30               1             358-195   \n",
       "13                                  41               1             663-191   \n",
       "14                                  40               1             858-320   \n",
       "15                                  20               1             571-222   \n",
       "16                                  13               1             612-213   \n",
       "17                                   9               0             713-214   \n",
       "18                                   4               0             422-267   \n",
       "19                                   8               0             479-262   \n",
       "20                                   8               0             552-198   \n",
       "21                                   6               0             609-306   \n",
       "22                                   5               0             625-273   \n",
       "23                                   4               0             391-192   \n",
       "24                                   2               0             575-319   \n",
       "25                                   1               0             358-191   \n",
       "\n",
       "    Titles  Prize_Money  \n",
       "0      102    126266005  \n",
       "1       64     43280489  \n",
       "2       94     21262417  \n",
       "3      109      8641040  \n",
       "4       75    134684000  \n",
       "5       83    111328858  \n",
       "6       77     12552132  \n",
       "7       64      3655751  \n",
       "8       60     31152975  \n",
       "9       30     20879934  \n",
       "10      41     20630941  \n",
       "11      23     14034132  \n",
       "12      20     14807000  \n",
       "13      45     61217017  \n",
       "14      59      2076761  \n",
       "15      33      7956101  \n",
       "16      32     20640030  \n",
       "17      49     25080956  \n",
       "18      15     14373291  \n",
       "19      16     13998165  \n",
       "20      35      1062408  \n",
       "21      26     23883797  \n",
       "22      44     12266977  \n",
       "23      18      9713771  \n",
       "24      20     13443970  \n",
       "25      11     11133128  "
      ]
     },
     "execution_count": 113,
     "metadata": {},
     "output_type": "execute_result"
    }
   ],
   "source": [
    "tennis"
   ]
  },
  {
   "cell_type": "code",
   "execution_count": 115,
   "metadata": {},
   "outputs": [
    {
     "data": {
      "text/html": [
       "<div>\n",
       "<style scoped>\n",
       "    .dataframe tbody tr th:only-of-type {\n",
       "        vertical-align: middle;\n",
       "    }\n",
       "\n",
       "    .dataframe tbody tr th {\n",
       "        vertical-align: top;\n",
       "    }\n",
       "\n",
       "    .dataframe thead th {\n",
       "        text-align: right;\n",
       "    }\n",
       "</style>\n",
       "<table border=\"1\" class=\"dataframe\">\n",
       "  <thead>\n",
       "    <tr style=\"text-align: right;\">\n",
       "      <th></th>\n",
       "      <th>Tennis_Player</th>\n",
       "      <th>Total_Weeks_at_No_1</th>\n",
       "    </tr>\n",
       "  </thead>\n",
       "  <tbody>\n",
       "    <tr>\n",
       "      <th>0</th>\n",
       "      <td>Roger Federer</td>\n",
       "      <td>310</td>\n",
       "    </tr>\n",
       "    <tr>\n",
       "      <th>1</th>\n",
       "      <td>Pete Sampras</td>\n",
       "      <td>286</td>\n",
       "    </tr>\n",
       "    <tr>\n",
       "      <th>2</th>\n",
       "      <td>Ivan Lendl</td>\n",
       "      <td>270</td>\n",
       "    </tr>\n",
       "    <tr>\n",
       "      <th>3</th>\n",
       "      <td>Jimmy Connors</td>\n",
       "      <td>268</td>\n",
       "    </tr>\n",
       "    <tr>\n",
       "      <th>4</th>\n",
       "      <td>Novak Djokovic</td>\n",
       "      <td>264</td>\n",
       "    </tr>\n",
       "    <tr>\n",
       "      <th>5</th>\n",
       "      <td>Rafael Nadal</td>\n",
       "      <td>196</td>\n",
       "    </tr>\n",
       "    <tr>\n",
       "      <th>6</th>\n",
       "      <td>John McEnroe</td>\n",
       "      <td>170</td>\n",
       "    </tr>\n",
       "    <tr>\n",
       "      <th>7</th>\n",
       "      <td>Bjorn Borg</td>\n",
       "      <td>109</td>\n",
       "    </tr>\n",
       "    <tr>\n",
       "      <th>8</th>\n",
       "      <td>Andre Agassi</td>\n",
       "      <td>101</td>\n",
       "    </tr>\n",
       "    <tr>\n",
       "      <th>9</th>\n",
       "      <td>Lleyton Hewitt</td>\n",
       "      <td>80</td>\n",
       "    </tr>\n",
       "    <tr>\n",
       "      <th>10</th>\n",
       "      <td>Stefan Edberg</td>\n",
       "      <td>72</td>\n",
       "    </tr>\n",
       "    <tr>\n",
       "      <th>11</th>\n",
       "      <td>Jim Courier</td>\n",
       "      <td>58</td>\n",
       "    </tr>\n",
       "    <tr>\n",
       "      <th>12</th>\n",
       "      <td>Gustavo Kuerten</td>\n",
       "      <td>43</td>\n",
       "    </tr>\n",
       "    <tr>\n",
       "      <th>13</th>\n",
       "      <td>Andy Murray</td>\n",
       "      <td>41</td>\n",
       "    </tr>\n",
       "    <tr>\n",
       "      <th>14</th>\n",
       "      <td>Ilie Nastase</td>\n",
       "      <td>40</td>\n",
       "    </tr>\n",
       "    <tr>\n",
       "      <th>15</th>\n",
       "      <td>Mats Wilander</td>\n",
       "      <td>20</td>\n",
       "    </tr>\n",
       "    <tr>\n",
       "      <th>16</th>\n",
       "      <td>Andy Roddick</td>\n",
       "      <td>13</td>\n",
       "    </tr>\n",
       "    <tr>\n",
       "      <th>17</th>\n",
       "      <td>Boris Becker</td>\n",
       "      <td>12</td>\n",
       "    </tr>\n",
       "    <tr>\n",
       "      <th>18</th>\n",
       "      <td>Marat Safin</td>\n",
       "      <td>9</td>\n",
       "    </tr>\n",
       "    <tr>\n",
       "      <th>19</th>\n",
       "      <td>Juan Carlos Ferrero</td>\n",
       "      <td>8</td>\n",
       "    </tr>\n",
       "    <tr>\n",
       "      <th>20</th>\n",
       "      <td>John Newcombe</td>\n",
       "      <td>8</td>\n",
       "    </tr>\n",
       "    <tr>\n",
       "      <th>21</th>\n",
       "      <td>Yevgeny Kafelnikov</td>\n",
       "      <td>6</td>\n",
       "    </tr>\n",
       "    <tr>\n",
       "      <th>22</th>\n",
       "      <td>Thomas Muster</td>\n",
       "      <td>6</td>\n",
       "    </tr>\n",
       "    <tr>\n",
       "      <th>23</th>\n",
       "      <td>Marcelo Rios</td>\n",
       "      <td>6</td>\n",
       "    </tr>\n",
       "    <tr>\n",
       "      <th>24</th>\n",
       "      <td>Carlos Moya</td>\n",
       "      <td>2</td>\n",
       "    </tr>\n",
       "    <tr>\n",
       "      <th>25</th>\n",
       "      <td>Patrick Rafter</td>\n",
       "      <td>1</td>\n",
       "    </tr>\n",
       "  </tbody>\n",
       "</table>\n",
       "</div>"
      ],
      "text/plain": [
       "          Tennis_Player  Total_Weeks_at_No_1\n",
       "0         Roger Federer                  310\n",
       "1          Pete Sampras                  286\n",
       "2            Ivan Lendl                  270\n",
       "3         Jimmy Connors                  268\n",
       "4        Novak Djokovic                  264\n",
       "5          Rafael Nadal                  196\n",
       "6          John McEnroe                  170\n",
       "7            Bjorn Borg                  109\n",
       "8          Andre Agassi                  101\n",
       "9        Lleyton Hewitt                   80\n",
       "10        Stefan Edberg                   72\n",
       "11          Jim Courier                   58\n",
       "12      Gustavo Kuerten                   43\n",
       "13          Andy Murray                   41\n",
       "14         Ilie Nastase                   40\n",
       "15        Mats Wilander                   20\n",
       "16         Andy Roddick                   13\n",
       "17         Boris Becker                   12\n",
       "18          Marat Safin                    9\n",
       "19  Juan Carlos Ferrero                    8\n",
       "20        John Newcombe                    8\n",
       "21   Yevgeny Kafelnikov                    6\n",
       "22        Thomas Muster                    6\n",
       "23         Marcelo Rios                    6\n",
       "24          Carlos Moya                    2\n",
       "25       Patrick Rafter                    1"
      ]
     },
     "execution_count": 115,
     "metadata": {},
     "output_type": "execute_result"
    }
   ],
   "source": [
    "# Access one column, say Tennis_Player\n",
    "\n",
    "tennis[[\"Tennis_Player\", \"Total_Weeks_at_No_1\"]]"
   ]
  },
  {
   "cell_type": "code",
   "execution_count": 117,
   "metadata": {},
   "outputs": [],
   "source": [
    "# Split Careers_Wins_Losses\n",
    "\n",
    "tennis[[\"Wins\", \"Losses\"]] = tennis[\"Careers_Wins_Losses\"].str.split(\"-\", expand=True)"
   ]
  },
  {
   "cell_type": "code",
   "execution_count": 120,
   "metadata": {},
   "outputs": [
    {
     "data": {
      "text/html": [
       "<div>\n",
       "<style scoped>\n",
       "    .dataframe tbody tr th:only-of-type {\n",
       "        vertical-align: middle;\n",
       "    }\n",
       "\n",
       "    .dataframe tbody tr th {\n",
       "        vertical-align: top;\n",
       "    }\n",
       "\n",
       "    .dataframe thead th {\n",
       "        text-align: right;\n",
       "    }\n",
       "</style>\n",
       "<table border=\"1\" class=\"dataframe\">\n",
       "  <thead>\n",
       "    <tr style=\"text-align: right;\">\n",
       "      <th></th>\n",
       "      <th>Tennis_Player</th>\n",
       "      <th>Total_Weeks_at_No_1</th>\n",
       "      <th>Maximum_Consectutive_Weeks_at_no_1</th>\n",
       "      <th>Years_End_no_1</th>\n",
       "      <th>Careers_Wins_Losses</th>\n",
       "      <th>Titles</th>\n",
       "      <th>Prize_Money</th>\n",
       "      <th>Wins</th>\n",
       "      <th>Losses</th>\n",
       "    </tr>\n",
       "  </thead>\n",
       "  <tbody>\n",
       "    <tr>\n",
       "      <th>0</th>\n",
       "      <td>Roger Federer</td>\n",
       "      <td>310</td>\n",
       "      <td>237</td>\n",
       "      <td>5</td>\n",
       "      <td>1222-265</td>\n",
       "      <td>102</td>\n",
       "      <td>126266005</td>\n",
       "      <td>1222</td>\n",
       "      <td>265</td>\n",
       "    </tr>\n",
       "    <tr>\n",
       "      <th>1</th>\n",
       "      <td>Pete Sampras</td>\n",
       "      <td>286</td>\n",
       "      <td>102</td>\n",
       "      <td>6</td>\n",
       "      <td>762-222</td>\n",
       "      <td>64</td>\n",
       "      <td>43280489</td>\n",
       "      <td>762</td>\n",
       "      <td>222</td>\n",
       "    </tr>\n",
       "    <tr>\n",
       "      <th>2</th>\n",
       "      <td>Ivan Lendl</td>\n",
       "      <td>270</td>\n",
       "      <td>157</td>\n",
       "      <td>4</td>\n",
       "      <td>1068-242</td>\n",
       "      <td>94</td>\n",
       "      <td>21262417</td>\n",
       "      <td>1068</td>\n",
       "      <td>242</td>\n",
       "    </tr>\n",
       "    <tr>\n",
       "      <th>3</th>\n",
       "      <td>Jimmy Connors</td>\n",
       "      <td>268</td>\n",
       "      <td>160</td>\n",
       "      <td>5</td>\n",
       "      <td>1274-282</td>\n",
       "      <td>109</td>\n",
       "      <td>8641040</td>\n",
       "      <td>1274</td>\n",
       "      <td>282</td>\n",
       "    </tr>\n",
       "    <tr>\n",
       "      <th>4</th>\n",
       "      <td>Novak Djokovic</td>\n",
       "      <td>264</td>\n",
       "      <td>122</td>\n",
       "      <td>5</td>\n",
       "      <td>871-182</td>\n",
       "      <td>75</td>\n",
       "      <td>134684000</td>\n",
       "      <td>871</td>\n",
       "      <td>182</td>\n",
       "    </tr>\n",
       "    <tr>\n",
       "      <th>5</th>\n",
       "      <td>Rafael Nadal</td>\n",
       "      <td>196</td>\n",
       "      <td>56</td>\n",
       "      <td>4</td>\n",
       "      <td>960-196</td>\n",
       "      <td>83</td>\n",
       "      <td>111328858</td>\n",
       "      <td>960</td>\n",
       "      <td>196</td>\n",
       "    </tr>\n",
       "    <tr>\n",
       "      <th>6</th>\n",
       "      <td>John McEnroe</td>\n",
       "      <td>170</td>\n",
       "      <td>58</td>\n",
       "      <td>4</td>\n",
       "      <td>881-198</td>\n",
       "      <td>77</td>\n",
       "      <td>12552132</td>\n",
       "      <td>881</td>\n",
       "      <td>198</td>\n",
       "    </tr>\n",
       "    <tr>\n",
       "      <th>7</th>\n",
       "      <td>Bjorn Borg</td>\n",
       "      <td>109</td>\n",
       "      <td>46</td>\n",
       "      <td>2</td>\n",
       "      <td>644-135</td>\n",
       "      <td>64</td>\n",
       "      <td>3655751</td>\n",
       "      <td>644</td>\n",
       "      <td>135</td>\n",
       "    </tr>\n",
       "  </tbody>\n",
       "</table>\n",
       "</div>"
      ],
      "text/plain": [
       "    Tennis_Player  Total_Weeks_at_No_1  Maximum_Consectutive_Weeks_at_no_1  \\\n",
       "0   Roger Federer                  310                                 237   \n",
       "1    Pete Sampras                  286                                 102   \n",
       "2      Ivan Lendl                  270                                 157   \n",
       "3   Jimmy Connors                  268                                 160   \n",
       "4  Novak Djokovic                  264                                 122   \n",
       "5    Rafael Nadal                  196                                  56   \n",
       "6    John McEnroe                  170                                  58   \n",
       "7      Bjorn Borg                  109                                  46   \n",
       "\n",
       "   Years_End_no_1 Careers_Wins_Losses  Titles  Prize_Money  Wins Losses  \n",
       "0               5            1222-265     102    126266005  1222    265  \n",
       "1               6             762-222      64     43280489   762    222  \n",
       "2               4            1068-242      94     21262417  1068    242  \n",
       "3               5            1274-282     109      8641040  1274    282  \n",
       "4               5             871-182      75    134684000   871    182  \n",
       "5               4             960-196      83    111328858   960    196  \n",
       "6               4             881-198      77     12552132   881    198  \n",
       "7               2             644-135      64      3655751   644    135  "
      ]
     },
     "execution_count": 120,
     "metadata": {},
     "output_type": "execute_result"
    }
   ],
   "source": [
    "tennis.head(8)"
   ]
  },
  {
   "cell_type": "code",
   "execution_count": 121,
   "metadata": {},
   "outputs": [
    {
     "data": {
      "text/plain": [
       "Tennis_Player                         object\n",
       "Total_Weeks_at_No_1                    int64\n",
       "Maximum_Consectutive_Weeks_at_no_1     int64\n",
       "Years_End_no_1                         int64\n",
       "Careers_Wins_Losses                   object\n",
       "Titles                                 int64\n",
       "Prize_Money                            int64\n",
       "Wins                                  object\n",
       "Losses                                object\n",
       "dtype: object"
      ]
     },
     "execution_count": 121,
     "metadata": {},
     "output_type": "execute_result"
    }
   ],
   "source": [
    "tennis.dtypes"
   ]
  },
  {
   "cell_type": "markdown",
   "metadata": {},
   "source": [
    "Let's change the data types of wins, losses"
   ]
  },
  {
   "cell_type": "code",
   "execution_count": 122,
   "metadata": {},
   "outputs": [],
   "source": [
    "tennis[\"Wins\"] = tennis[\"Wins\"].astype(float)\n",
    "tennis[\"Losses\"] = tennis[\"Losses\"].astype(float)"
   ]
  },
  {
   "cell_type": "code",
   "execution_count": 123,
   "metadata": {},
   "outputs": [
    {
     "data": {
      "text/plain": [
       "Tennis_Player                          object\n",
       "Total_Weeks_at_No_1                     int64\n",
       "Maximum_Consectutive_Weeks_at_no_1      int64\n",
       "Years_End_no_1                          int64\n",
       "Careers_Wins_Losses                    object\n",
       "Titles                                  int64\n",
       "Prize_Money                             int64\n",
       "Wins                                  float64\n",
       "Losses                                float64\n",
       "dtype: object"
      ]
     },
     "execution_count": 123,
     "metadata": {},
     "output_type": "execute_result"
    }
   ],
   "source": [
    "tennis.dtypes"
   ]
  },
  {
   "cell_type": "code",
   "execution_count": 124,
   "metadata": {},
   "outputs": [],
   "source": [
    "# Creating new columns\n",
    "\n",
    "\n",
    "tennis['Total_Professional_matches'] = tennis[\"Wins\"] + tennis[\"Losses\"]"
   ]
  },
  {
   "cell_type": "code",
   "execution_count": 125,
   "metadata": {},
   "outputs": [
    {
     "data": {
      "text/html": [
       "<div>\n",
       "<style scoped>\n",
       "    .dataframe tbody tr th:only-of-type {\n",
       "        vertical-align: middle;\n",
       "    }\n",
       "\n",
       "    .dataframe tbody tr th {\n",
       "        vertical-align: top;\n",
       "    }\n",
       "\n",
       "    .dataframe thead th {\n",
       "        text-align: right;\n",
       "    }\n",
       "</style>\n",
       "<table border=\"1\" class=\"dataframe\">\n",
       "  <thead>\n",
       "    <tr style=\"text-align: right;\">\n",
       "      <th></th>\n",
       "      <th>Tennis_Player</th>\n",
       "      <th>Total_Weeks_at_No_1</th>\n",
       "      <th>Maximum_Consectutive_Weeks_at_no_1</th>\n",
       "      <th>Years_End_no_1</th>\n",
       "      <th>Careers_Wins_Losses</th>\n",
       "      <th>Titles</th>\n",
       "      <th>Prize_Money</th>\n",
       "      <th>Wins</th>\n",
       "      <th>Losses</th>\n",
       "      <th>Total_Professional_matches</th>\n",
       "    </tr>\n",
       "  </thead>\n",
       "  <tbody>\n",
       "    <tr>\n",
       "      <th>0</th>\n",
       "      <td>Roger Federer</td>\n",
       "      <td>310</td>\n",
       "      <td>237</td>\n",
       "      <td>5</td>\n",
       "      <td>1222-265</td>\n",
       "      <td>102</td>\n",
       "      <td>126266005</td>\n",
       "      <td>1222.0</td>\n",
       "      <td>265.0</td>\n",
       "      <td>1487.0</td>\n",
       "    </tr>\n",
       "    <tr>\n",
       "      <th>1</th>\n",
       "      <td>Pete Sampras</td>\n",
       "      <td>286</td>\n",
       "      <td>102</td>\n",
       "      <td>6</td>\n",
       "      <td>762-222</td>\n",
       "      <td>64</td>\n",
       "      <td>43280489</td>\n",
       "      <td>762.0</td>\n",
       "      <td>222.0</td>\n",
       "      <td>984.0</td>\n",
       "    </tr>\n",
       "    <tr>\n",
       "      <th>2</th>\n",
       "      <td>Ivan Lendl</td>\n",
       "      <td>270</td>\n",
       "      <td>157</td>\n",
       "      <td>4</td>\n",
       "      <td>1068-242</td>\n",
       "      <td>94</td>\n",
       "      <td>21262417</td>\n",
       "      <td>1068.0</td>\n",
       "      <td>242.0</td>\n",
       "      <td>1310.0</td>\n",
       "    </tr>\n",
       "    <tr>\n",
       "      <th>3</th>\n",
       "      <td>Jimmy Connors</td>\n",
       "      <td>268</td>\n",
       "      <td>160</td>\n",
       "      <td>5</td>\n",
       "      <td>1274-282</td>\n",
       "      <td>109</td>\n",
       "      <td>8641040</td>\n",
       "      <td>1274.0</td>\n",
       "      <td>282.0</td>\n",
       "      <td>1556.0</td>\n",
       "    </tr>\n",
       "    <tr>\n",
       "      <th>4</th>\n",
       "      <td>Novak Djokovic</td>\n",
       "      <td>264</td>\n",
       "      <td>122</td>\n",
       "      <td>5</td>\n",
       "      <td>871-182</td>\n",
       "      <td>75</td>\n",
       "      <td>134684000</td>\n",
       "      <td>871.0</td>\n",
       "      <td>182.0</td>\n",
       "      <td>1053.0</td>\n",
       "    </tr>\n",
       "  </tbody>\n",
       "</table>\n",
       "</div>"
      ],
      "text/plain": [
       "    Tennis_Player  Total_Weeks_at_No_1  Maximum_Consectutive_Weeks_at_no_1  \\\n",
       "0   Roger Federer                  310                                 237   \n",
       "1    Pete Sampras                  286                                 102   \n",
       "2      Ivan Lendl                  270                                 157   \n",
       "3   Jimmy Connors                  268                                 160   \n",
       "4  Novak Djokovic                  264                                 122   \n",
       "\n",
       "   Years_End_no_1 Careers_Wins_Losses  Titles  Prize_Money    Wins  Losses  \\\n",
       "0               5            1222-265     102    126266005  1222.0   265.0   \n",
       "1               6             762-222      64     43280489   762.0   222.0   \n",
       "2               4            1068-242      94     21262417  1068.0   242.0   \n",
       "3               5            1274-282     109      8641040  1274.0   282.0   \n",
       "4               5             871-182      75    134684000   871.0   182.0   \n",
       "\n",
       "   Total_Professional_matches  \n",
       "0                      1487.0  \n",
       "1                       984.0  \n",
       "2                      1310.0  \n",
       "3                      1556.0  \n",
       "4                      1053.0  "
      ]
     },
     "execution_count": 125,
     "metadata": {},
     "output_type": "execute_result"
    }
   ],
   "source": [
    "tennis.head()"
   ]
  },
  {
   "cell_type": "code",
   "execution_count": 126,
   "metadata": {
    "scrolled": true
   },
   "outputs": [],
   "source": [
    "tennis['Win_Percentage'] = (tennis[\"Wins\"] / tennis[\"Total_Professional_matches\"]) * 100"
   ]
  },
  {
   "cell_type": "code",
   "execution_count": 127,
   "metadata": {},
   "outputs": [
    {
     "data": {
      "text/html": [
       "<div>\n",
       "<style scoped>\n",
       "    .dataframe tbody tr th:only-of-type {\n",
       "        vertical-align: middle;\n",
       "    }\n",
       "\n",
       "    .dataframe tbody tr th {\n",
       "        vertical-align: top;\n",
       "    }\n",
       "\n",
       "    .dataframe thead th {\n",
       "        text-align: right;\n",
       "    }\n",
       "</style>\n",
       "<table border=\"1\" class=\"dataframe\">\n",
       "  <thead>\n",
       "    <tr style=\"text-align: right;\">\n",
       "      <th></th>\n",
       "      <th>Tennis_Player</th>\n",
       "      <th>Total_Weeks_at_No_1</th>\n",
       "      <th>Maximum_Consectutive_Weeks_at_no_1</th>\n",
       "      <th>Years_End_no_1</th>\n",
       "      <th>Careers_Wins_Losses</th>\n",
       "      <th>Titles</th>\n",
       "      <th>Prize_Money</th>\n",
       "      <th>Wins</th>\n",
       "      <th>Losses</th>\n",
       "      <th>Total_Professional_matches</th>\n",
       "      <th>Win_Percentage</th>\n",
       "    </tr>\n",
       "  </thead>\n",
       "  <tbody>\n",
       "    <tr>\n",
       "      <th>0</th>\n",
       "      <td>Roger Federer</td>\n",
       "      <td>310</td>\n",
       "      <td>237</td>\n",
       "      <td>5</td>\n",
       "      <td>1222-265</td>\n",
       "      <td>102</td>\n",
       "      <td>126266005</td>\n",
       "      <td>1222.0</td>\n",
       "      <td>265.0</td>\n",
       "      <td>1487.0</td>\n",
       "      <td>82.178884</td>\n",
       "    </tr>\n",
       "    <tr>\n",
       "      <th>1</th>\n",
       "      <td>Pete Sampras</td>\n",
       "      <td>286</td>\n",
       "      <td>102</td>\n",
       "      <td>6</td>\n",
       "      <td>762-222</td>\n",
       "      <td>64</td>\n",
       "      <td>43280489</td>\n",
       "      <td>762.0</td>\n",
       "      <td>222.0</td>\n",
       "      <td>984.0</td>\n",
       "      <td>77.439024</td>\n",
       "    </tr>\n",
       "    <tr>\n",
       "      <th>2</th>\n",
       "      <td>Ivan Lendl</td>\n",
       "      <td>270</td>\n",
       "      <td>157</td>\n",
       "      <td>4</td>\n",
       "      <td>1068-242</td>\n",
       "      <td>94</td>\n",
       "      <td>21262417</td>\n",
       "      <td>1068.0</td>\n",
       "      <td>242.0</td>\n",
       "      <td>1310.0</td>\n",
       "      <td>81.526718</td>\n",
       "    </tr>\n",
       "    <tr>\n",
       "      <th>3</th>\n",
       "      <td>Jimmy Connors</td>\n",
       "      <td>268</td>\n",
       "      <td>160</td>\n",
       "      <td>5</td>\n",
       "      <td>1274-282</td>\n",
       "      <td>109</td>\n",
       "      <td>8641040</td>\n",
       "      <td>1274.0</td>\n",
       "      <td>282.0</td>\n",
       "      <td>1556.0</td>\n",
       "      <td>81.876607</td>\n",
       "    </tr>\n",
       "    <tr>\n",
       "      <th>4</th>\n",
       "      <td>Novak Djokovic</td>\n",
       "      <td>264</td>\n",
       "      <td>122</td>\n",
       "      <td>5</td>\n",
       "      <td>871-182</td>\n",
       "      <td>75</td>\n",
       "      <td>134684000</td>\n",
       "      <td>871.0</td>\n",
       "      <td>182.0</td>\n",
       "      <td>1053.0</td>\n",
       "      <td>82.716049</td>\n",
       "    </tr>\n",
       "  </tbody>\n",
       "</table>\n",
       "</div>"
      ],
      "text/plain": [
       "    Tennis_Player  Total_Weeks_at_No_1  Maximum_Consectutive_Weeks_at_no_1  \\\n",
       "0   Roger Federer                  310                                 237   \n",
       "1    Pete Sampras                  286                                 102   \n",
       "2      Ivan Lendl                  270                                 157   \n",
       "3   Jimmy Connors                  268                                 160   \n",
       "4  Novak Djokovic                  264                                 122   \n",
       "\n",
       "   Years_End_no_1 Careers_Wins_Losses  Titles  Prize_Money    Wins  Losses  \\\n",
       "0               5            1222-265     102    126266005  1222.0   265.0   \n",
       "1               6             762-222      64     43280489   762.0   222.0   \n",
       "2               4            1068-242      94     21262417  1068.0   242.0   \n",
       "3               5            1274-282     109      8641040  1274.0   282.0   \n",
       "4               5             871-182      75    134684000   871.0   182.0   \n",
       "\n",
       "   Total_Professional_matches  Win_Percentage  \n",
       "0                      1487.0       82.178884  \n",
       "1                       984.0       77.439024  \n",
       "2                      1310.0       81.526718  \n",
       "3                      1556.0       81.876607  \n",
       "4                      1053.0       82.716049  "
      ]
     },
     "execution_count": 127,
     "metadata": {},
     "output_type": "execute_result"
    }
   ],
   "source": [
    "tennis.head()"
   ]
  },
  {
   "cell_type": "markdown",
   "metadata": {},
   "source": [
    "Let's sort the rows based on their win percentages"
   ]
  },
  {
   "cell_type": "code",
   "execution_count": 129,
   "metadata": {},
   "outputs": [
    {
     "data": {
      "text/html": [
       "<div>\n",
       "<style scoped>\n",
       "    .dataframe tbody tr th:only-of-type {\n",
       "        vertical-align: middle;\n",
       "    }\n",
       "\n",
       "    .dataframe tbody tr th {\n",
       "        vertical-align: top;\n",
       "    }\n",
       "\n",
       "    .dataframe thead th {\n",
       "        text-align: right;\n",
       "    }\n",
       "</style>\n",
       "<table border=\"1\" class=\"dataframe\">\n",
       "  <thead>\n",
       "    <tr style=\"text-align: right;\">\n",
       "      <th></th>\n",
       "      <th>Tennis_Player</th>\n",
       "      <th>Total_Weeks_at_No_1</th>\n",
       "      <th>Maximum_Consectutive_Weeks_at_no_1</th>\n",
       "      <th>Years_End_no_1</th>\n",
       "      <th>Careers_Wins_Losses</th>\n",
       "      <th>Titles</th>\n",
       "      <th>Prize_Money</th>\n",
       "      <th>Wins</th>\n",
       "      <th>Losses</th>\n",
       "      <th>Total_Professional_matches</th>\n",
       "      <th>Win_Percentage</th>\n",
       "    </tr>\n",
       "  </thead>\n",
       "  <tbody>\n",
       "    <tr>\n",
       "      <th>5</th>\n",
       "      <td>Rafael Nadal</td>\n",
       "      <td>196</td>\n",
       "      <td>56</td>\n",
       "      <td>4</td>\n",
       "      <td>960-196</td>\n",
       "      <td>83</td>\n",
       "      <td>111328858</td>\n",
       "      <td>960.0</td>\n",
       "      <td>196.0</td>\n",
       "      <td>1156.0</td>\n",
       "      <td>83.044983</td>\n",
       "    </tr>\n",
       "    <tr>\n",
       "      <th>4</th>\n",
       "      <td>Novak Djokovic</td>\n",
       "      <td>264</td>\n",
       "      <td>122</td>\n",
       "      <td>5</td>\n",
       "      <td>871-182</td>\n",
       "      <td>75</td>\n",
       "      <td>134684000</td>\n",
       "      <td>871.0</td>\n",
       "      <td>182.0</td>\n",
       "      <td>1053.0</td>\n",
       "      <td>82.716049</td>\n",
       "    </tr>\n",
       "    <tr>\n",
       "      <th>7</th>\n",
       "      <td>Bjorn Borg</td>\n",
       "      <td>109</td>\n",
       "      <td>46</td>\n",
       "      <td>2</td>\n",
       "      <td>644-135</td>\n",
       "      <td>64</td>\n",
       "      <td>3655751</td>\n",
       "      <td>644.0</td>\n",
       "      <td>135.0</td>\n",
       "      <td>779.0</td>\n",
       "      <td>82.670090</td>\n",
       "    </tr>\n",
       "    <tr>\n",
       "      <th>0</th>\n",
       "      <td>Roger Federer</td>\n",
       "      <td>310</td>\n",
       "      <td>237</td>\n",
       "      <td>5</td>\n",
       "      <td>1222-265</td>\n",
       "      <td>102</td>\n",
       "      <td>126266005</td>\n",
       "      <td>1222.0</td>\n",
       "      <td>265.0</td>\n",
       "      <td>1487.0</td>\n",
       "      <td>82.178884</td>\n",
       "    </tr>\n",
       "    <tr>\n",
       "      <th>3</th>\n",
       "      <td>Jimmy Connors</td>\n",
       "      <td>268</td>\n",
       "      <td>160</td>\n",
       "      <td>5</td>\n",
       "      <td>1274-282</td>\n",
       "      <td>109</td>\n",
       "      <td>8641040</td>\n",
       "      <td>1274.0</td>\n",
       "      <td>282.0</td>\n",
       "      <td>1556.0</td>\n",
       "      <td>81.876607</td>\n",
       "    </tr>\n",
       "    <tr>\n",
       "      <th>6</th>\n",
       "      <td>John McEnroe</td>\n",
       "      <td>170</td>\n",
       "      <td>58</td>\n",
       "      <td>4</td>\n",
       "      <td>881-198</td>\n",
       "      <td>77</td>\n",
       "      <td>12552132</td>\n",
       "      <td>881.0</td>\n",
       "      <td>198.0</td>\n",
       "      <td>1079.0</td>\n",
       "      <td>81.649676</td>\n",
       "    </tr>\n",
       "    <tr>\n",
       "      <th>2</th>\n",
       "      <td>Ivan Lendl</td>\n",
       "      <td>270</td>\n",
       "      <td>157</td>\n",
       "      <td>4</td>\n",
       "      <td>1068-242</td>\n",
       "      <td>94</td>\n",
       "      <td>21262417</td>\n",
       "      <td>1068.0</td>\n",
       "      <td>242.0</td>\n",
       "      <td>1310.0</td>\n",
       "      <td>81.526718</td>\n",
       "    </tr>\n",
       "    <tr>\n",
       "      <th>13</th>\n",
       "      <td>Andy Murray</td>\n",
       "      <td>41</td>\n",
       "      <td>41</td>\n",
       "      <td>1</td>\n",
       "      <td>663-191</td>\n",
       "      <td>45</td>\n",
       "      <td>61217017</td>\n",
       "      <td>663.0</td>\n",
       "      <td>191.0</td>\n",
       "      <td>854.0</td>\n",
       "      <td>77.634660</td>\n",
       "    </tr>\n",
       "    <tr>\n",
       "      <th>1</th>\n",
       "      <td>Pete Sampras</td>\n",
       "      <td>286</td>\n",
       "      <td>102</td>\n",
       "      <td>6</td>\n",
       "      <td>762-222</td>\n",
       "      <td>64</td>\n",
       "      <td>43280489</td>\n",
       "      <td>762.0</td>\n",
       "      <td>222.0</td>\n",
       "      <td>984.0</td>\n",
       "      <td>77.439024</td>\n",
       "    </tr>\n",
       "    <tr>\n",
       "      <th>17</th>\n",
       "      <td>Boris Becker</td>\n",
       "      <td>12</td>\n",
       "      <td>9</td>\n",
       "      <td>0</td>\n",
       "      <td>713-214</td>\n",
       "      <td>49</td>\n",
       "      <td>25080956</td>\n",
       "      <td>713.0</td>\n",
       "      <td>214.0</td>\n",
       "      <td>927.0</td>\n",
       "      <td>76.914779</td>\n",
       "    </tr>\n",
       "  </tbody>\n",
       "</table>\n",
       "</div>"
      ],
      "text/plain": [
       "     Tennis_Player  Total_Weeks_at_No_1  Maximum_Consectutive_Weeks_at_no_1  \\\n",
       "5     Rafael Nadal                  196                                  56   \n",
       "4   Novak Djokovic                  264                                 122   \n",
       "7       Bjorn Borg                  109                                  46   \n",
       "0    Roger Federer                  310                                 237   \n",
       "3    Jimmy Connors                  268                                 160   \n",
       "6     John McEnroe                  170                                  58   \n",
       "2       Ivan Lendl                  270                                 157   \n",
       "13     Andy Murray                   41                                  41   \n",
       "1     Pete Sampras                  286                                 102   \n",
       "17    Boris Becker                   12                                   9   \n",
       "\n",
       "    Years_End_no_1 Careers_Wins_Losses  Titles  Prize_Money    Wins  Losses  \\\n",
       "5                4             960-196      83    111328858   960.0   196.0   \n",
       "4                5             871-182      75    134684000   871.0   182.0   \n",
       "7                2             644-135      64      3655751   644.0   135.0   \n",
       "0                5            1222-265     102    126266005  1222.0   265.0   \n",
       "3                5            1274-282     109      8641040  1274.0   282.0   \n",
       "6                4             881-198      77     12552132   881.0   198.0   \n",
       "2                4            1068-242      94     21262417  1068.0   242.0   \n",
       "13               1             663-191      45     61217017   663.0   191.0   \n",
       "1                6             762-222      64     43280489   762.0   222.0   \n",
       "17               0             713-214      49     25080956   713.0   214.0   \n",
       "\n",
       "    Total_Professional_matches  Win_Percentage  \n",
       "5                       1156.0       83.044983  \n",
       "4                       1053.0       82.716049  \n",
       "7                        779.0       82.670090  \n",
       "0                       1487.0       82.178884  \n",
       "3                       1556.0       81.876607  \n",
       "6                       1079.0       81.649676  \n",
       "2                       1310.0       81.526718  \n",
       "13                       854.0       77.634660  \n",
       "1                        984.0       77.439024  \n",
       "17                       927.0       76.914779  "
      ]
     },
     "execution_count": 129,
     "metadata": {},
     "output_type": "execute_result"
    }
   ],
   "source": [
    "tennis.sort_values('Win_Percentage', ascending=False).head(10)"
   ]
  },
  {
   "cell_type": "markdown",
   "metadata": {},
   "source": [
    "## Plots\n",
    "\n",
    "Let's make a quick plot of how long each player has been #1 using the matplotlib library"
   ]
  },
  {
   "cell_type": "code",
   "execution_count": 130,
   "metadata": {},
   "outputs": [
    {
     "data": {
      "text/plain": [
       "<matplotlib.axes._subplots.AxesSubplot at 0x256a443bbc8>"
      ]
     },
     "execution_count": 130,
     "metadata": {},
     "output_type": "execute_result"
    },
    {
     "data": {
      "image/png": "[encoded data removed]",
      "text/plain": [
       "<Figure size 1080x720 with 1 Axes>"
      ]
     },
     "metadata": {
      "needs_background": "light"
     },
     "output_type": "display_data"
    }
   ],
   "source": [
    "import matplotlib.pyplot as plt\n",
    "\n",
    "# Quick inspection of the data\n",
    "tennis.plot.barh(x='Tennis_Player', \n",
    "                y= 'Total_Weeks_at_No_1',\n",
    "                figsize = (15, 10),\n",
    "               )"
   ]
  },
  {
   "cell_type": "code",
   "execution_count": 131,
   "metadata": {
    "scrolled": false
   },
   "outputs": [
    {
     "data": {
      "text/plain": [
       "<matplotlib.axes._subplots.AxesSubplot at 0x256a51bdf88>"
      ]
     },
     "execution_count": 131,
     "metadata": {},
     "output_type": "execute_result"
    },
    {
     "data": {
      "image/png": "[encoded data removed]",
      "text/plain": [
       "<Figure size 1080x720 with 1 Axes>"
      ]
     },
     "metadata": {
      "needs_background": "light"
     },
     "output_type": "display_data"
    }
   ],
   "source": [
    "# Filtering the output, weeks at no 1 greater than 50 will only be shown.\n",
    "tennis[tennis.Total_Weeks_at_No_1 > 50].plot.barh(x='Tennis_Player', \n",
    "                                                y= 'Total_Weeks_at_No_1',\n",
    "                                                figsize = (15, 10),\n",
    "                                               )"
   ]
  },
  {
   "cell_type": "markdown",
   "metadata": {},
   "source": [
    "# That's all for today. Thanks for attending!\n",
    "\n",
    "# Join us on our next workshop for more content on data analysis!"
   ]
  }
 ],
 "metadata": {
  "kernelspec": {
   "display_name": "Python 3",
   "language": "python",
   "name": "python3"
  },
  "language_info": {
   "codemirror_mode": {
    "name": "ipython",
    "version": 3
   },
   "file_extension": ".py",
   "mimetype": "text/x-python",
   "name": "python",
   "nbconvert_exporter": "python",
   "pygments_lexer": "ipython3",
   "version": "3.7.6"
  }
 },
 "nbformat": 4,
 "nbformat_minor": 4
}
